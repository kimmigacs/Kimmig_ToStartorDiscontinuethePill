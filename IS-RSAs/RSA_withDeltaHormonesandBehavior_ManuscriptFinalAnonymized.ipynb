{
 "cells": [
  {
   "cell_type": "markdown",
   "id": "314276ae",
   "metadata": {},
   "source": [
    "# RSA between change in hormone concentrations and behavioral measures\n",
    "### model: behavior_delta - positive and negative mood, depressive symptoms and emotion recognition performance, hormones_delta - estrogens, progestogens\n",
    "### Note: code cannot be run as a whole - the desired variables to be compared have to be selected manually by running the respective cells\n",
    "#### import modules & correct read-in (+split groups)"
   ]
  },
  {
   "cell_type": "code",
   "execution_count": null,
   "id": "b64531a6",
   "metadata": {},
   "outputs": [],
   "source": [
    "#import os\n",
    "#from os import system as oss\n",
    "import pandas as pd\n",
    "import numpy as np\n",
    "import seaborn as sns\n",
    "#from matplotlib import pyplot as plt\n",
    "\n",
    "from sklearn.metrics import pairwise_distances\n",
    "#from sklearn import metrics\n",
    "import scipy\n",
    "from scipy import stats\n",
    "from scipy.stats import permutation_test\n",
    "import math\n",
    "import json"
   ]
  },
  {
   "cell_type": "markdown",
   "id": "1003bfb3",
   "metadata": {},
   "source": [
    "## Modelling - creating dataframes\n",
    "### Hormone Delta dataframes\n",
    "#### Load Estrogen Data"
   ]
  },
  {
   "cell_type": "code",
   "execution_count": null,
   "id": "423d8640",
   "metadata": {},
   "outputs": [],
   "source": [
    "#### Change in Estrogens Dataframe \n",
    "### create new DF with hormone data\n",
    "#load the hormones sheet\n",
    "df_hormonesdelta_neworder = pd.read_excel('HormonesBehaviorDelta_anonymized.xlsx', sheet_name = 'Hormones_Delta', index_col = 0)\n",
    "df_hormonesdelta_neworder = df_hormonesdelta_neworder.drop(['group_noONC', 'Progesterone_delta', 'Gestagen_delta', 'Testosterone_delta'], axis = 1)"
   ]
  },
  {
   "cell_type": "markdown",
   "id": "33d1a9a7",
   "metadata": {},
   "source": [
    "#### Load Progestogen Data"
   ]
  },
  {
   "cell_type": "code",
   "execution_count": null,
   "id": "36582bbe",
   "metadata": {},
   "outputs": [],
   "source": [
    "#### Change in Progestogens Dataframe \n",
    "### create new DF with hormone data\n",
    "#load the hormones sheet\n",
    "df_hormonesdelta_neworder = pd.read_excel('HormonesBehaviorDelta_anonymized.xlsx', sheet_name = 'Hormones_Delta', index_col = 0)\n",
    "df_hormonesdelta_neworder = df_hormonesdelta_neworder.drop(['group_noONC', 'Estradiol_delta', 'EE_delta', 'Testosterone_delta'], axis = 1)"
   ]
  },
  {
   "cell_type": "markdown",
   "id": "f3845b64",
   "metadata": {},
   "source": [
    "### Run one dataframe to be compared (e.g. positive mood or negative mood or depression or emotion recognition) with one hormonal dataframe\n",
    "#### Load Itemwise positive mood data"
   ]
  },
  {
   "cell_type": "code",
   "execution_count": null,
   "id": "5c083ea0",
   "metadata": {},
   "outputs": [],
   "source": [
    "##read in behav data - Positive Mood\n",
    "df_behav_neworder = pd.read_excel('HormonesBehaviorDelta_anonymized.xlsx', sheet_name = 'PANASpos_DeltaperItem', index_col = 0)"
   ]
  },
  {
   "cell_type": "markdown",
   "id": "df4ce0f5",
   "metadata": {},
   "source": [
    "#### Load Itemwise negative mood data "
   ]
  },
  {
   "cell_type": "code",
   "execution_count": null,
   "id": "2bc3c654",
   "metadata": {},
   "outputs": [],
   "source": [
    "##read in behav data - Negative Mood\n",
    "df_behav_neworder = pd.read_excel('HormonesBehaviorDelta_anonymized.xlsx', sheet_name = 'PANASneg_DeltaperItem', index_col = 0)"
   ]
  },
  {
   "cell_type": "markdown",
   "id": "51761fe3",
   "metadata": {},
   "source": [
    "#### Load Itemwise depression score"
   ]
  },
  {
   "cell_type": "code",
   "execution_count": null,
   "id": "ea015e50",
   "metadata": {},
   "outputs": [],
   "source": [
    "##read in behav data - Depressive Symptoms\n",
    "df_behav_neworder = pd.read_excel('HormonesBehaviorDelta_anonymized.xlsx', sheet_name = 'BDI_DeltaperItem', index_col = 0)"
   ]
  },
  {
   "cell_type": "markdown",
   "id": "1dbdb92c",
   "metadata": {},
   "source": [
    "#### Load Itemwise emotion recognition accuracy"
   ]
  },
  {
   "cell_type": "code",
   "execution_count": null,
   "id": "a6f130c1",
   "metadata": {},
   "outputs": [],
   "source": [
    "##read in behav data - Emotion Recognition Accuracy\n",
    "df_behav_neworder = pd.read_excel('HormonesBehaviorDelta_anonymized.xlsx', sheet_name = 'EmoRecogAcc_DeltaperItem', index_col = 0)"
   ]
  },
  {
   "cell_type": "markdown",
   "id": "4340d6ef",
   "metadata": {},
   "source": [
    "#### Load Itemwise emotion recognition response times "
   ]
  },
  {
   "cell_type": "code",
   "execution_count": null,
   "id": "d8cfc6dc",
   "metadata": {},
   "outputs": [],
   "source": [
    "#read in behav data - Emotion Recognition Response Times\n",
    "df_behav_neworder = pd.read_excel('HormonesBehaviorDelta_anonymized.xlsx', sheet_name = 'EmoRecogRT_DeltaperEmotion', index_col = 0)"
   ]
  },
  {
   "cell_type": "markdown",
   "id": "a717ec05",
   "metadata": {},
   "source": [
    "### Drop participants with missing data in either of the dataframe from both dataframes"
   ]
  },
  {
   "cell_type": "code",
   "execution_count": null,
   "id": "c450835a",
   "metadata": {},
   "outputs": [],
   "source": [
    "#delete subjects with missing data\n",
    "SubjectswithNAN_behav = df_behav_neworder.loc[pd.isna(df_behav_neworder).any(1), :].index\n",
    "df_behavFIN = df_behav_neworder.drop(index=SubjectswithNAN_behav)\n",
    "SubjectswithNAN = df_hormonesdelta_neworder.loc[pd.isna(df_hormonesdelta_neworder).any(1), :].index\n",
    "df_hormonesdeltaFIN= df_hormonesdelta_neworder.drop(index=SubjectswithNAN)\n",
    "\n",
    "#make sure that participants without hormonal data are also dropped from behavioral dataframe\n",
    "df_behavFIN = df_behavFIN.drop(index=SubjectswithNAN)   \n",
    "#make sure that participants without behavioral data are also dropped from hormonal dataframe\n",
    "df_hormonesdeltaFIN = df_hormonesdeltaFIN.drop(index=SubjectswithNAN_behav)  \n",
    "# compare whether both dataframes include the same participants \n",
    "if df_behavFIN.index.equals(df_hormonesdeltaFIN.index):\n",
    "    print(\"dataframes have the same order and number of participants\")\n",
    "else:\n",
    "    print(\"needs checking\") \n",
    "#len(df_hormonesdeltaFIN)"
   ]
  },
  {
   "cell_type": "code",
   "execution_count": null,
   "id": "f94e3d72",
   "metadata": {},
   "outputs": [],
   "source": [
    "df_behavFIN"
   ]
  },
  {
   "cell_type": "code",
   "execution_count": null,
   "id": "fcc2c8ba",
   "metadata": {},
   "outputs": [],
   "source": [
    "df_hormonesdeltaFIN\n",
    "#len(df_hormonesdeltaFIN)"
   ]
  },
  {
   "cell_type": "markdown",
   "id": "3497448e",
   "metadata": {},
   "source": [
    "## RSA approach - creating and comparing RDMs"
   ]
  },
  {
   "cell_type": "markdown",
   "id": "a966a035",
   "metadata": {},
   "source": [
    "### Create RDM for behavioral change "
   ]
  },
  {
   "cell_type": "code",
   "execution_count": null,
   "id": "d58fd3f1",
   "metadata": {},
   "outputs": [],
   "source": [
    "### compute RDM for behavioral changes using standardized Euclidean distance\n",
    "rdm_behav = pairwise_distances(df_behavFIN.to_numpy(), metric='seuclidean')\n",
    "DF_rdm_behav = pd.DataFrame(rdm_behav)\n",
    "# vectorize\n",
    "rdm_behav_vec = DF_rdm_behav.to_numpy()[np.triu_indices(len(DF_rdm_behav.to_numpy()[0]), 1)]"
   ]
  },
  {
   "cell_type": "markdown",
   "id": "8aee0d19",
   "metadata": {},
   "source": [
    "###  Visualize behavioral RDM"
   ]
  },
  {
   "cell_type": "code",
   "execution_count": null,
   "id": "96c05b27",
   "metadata": {},
   "outputs": [],
   "source": [
    "#mask dataframe\n",
    "mask = np.zeros_like(DF_rdm_behav, dtype=bool)\n",
    "mask[np.triu_indices_from(mask)] = True\n",
    "\n",
    "\n",
    "#ax = sns.heatmap(DF_rdm_hormone_visualize, mask=mask, yticklabels=False, xticklabels=False, cbar=False, vmin = 0, vmax = 10)\n",
    "ax = sns.heatmap(DF_rdm_behav, mask=mask, yticklabels=False, xticklabels=False, cbar=False, square=True)\n",
    "# use matplotlib.colorbar.Colorbar object\n",
    "#cbar = ax.collections[0].colorbar\n",
    "# here set the labelsize by 20\n",
    "#cbar.ax.tick_params(labelsize=20)\n",
    "#plt.show()\n",
    "#make background transparent\n",
    "#cbar.patch.set_alpha(0)\n",
    "ax.patch.set_alpha(0)\n",
    "\n",
    "print(DF_rdm_behav.shape)\n",
    "\n",
    "# save RDM figure, if needed\n",
    "#plt.savefig('C:/Users/UKPP/Documents/HormonesRestingStateRSA/ManuscriptRSA_posmoodRDM_standEuclidean.jpg', bbox_inches='tight', dpi=300)\n",
    "\n",
    "#get info of min and max values as well as matrix size\n",
    "x = DF_rdm_behav.to_numpy()\n",
    "print(np.max(x[np.nonzero(x)]))\n",
    "print(np.min(x[np.nonzero(x)]))"
   ]
  },
  {
   "cell_type": "markdown",
   "id": "ceaaba7e",
   "metadata": {},
   "source": [
    "### Create RDM for hormonal change "
   ]
  },
  {
   "cell_type": "code",
   "execution_count": null,
   "id": "db7a56ac",
   "metadata": {},
   "outputs": [],
   "source": [
    "### compute RDM for hormonal changes using standardized Euclidean distance\n",
    "rdm_modelFull = pairwise_distances(df_hormonesdeltaFIN.to_numpy(), metric='seuclidean')\n",
    "DF_rdm_modelFull = pd.DataFrame(rdm_modelFull)\n",
    "# vectorize\n",
    "rdm_modelFull_vec = DF_rdm_modelFull.to_numpy()[np.triu_indices(len(DF_rdm_modelFull.to_numpy()[0]), 1)]"
   ]
  },
  {
   "cell_type": "markdown",
   "id": "9797aa17",
   "metadata": {},
   "source": [
    "### Visualize hormonal RDM "
   ]
  },
  {
   "cell_type": "code",
   "execution_count": null,
   "id": "105d4b44",
   "metadata": {},
   "outputs": [],
   "source": [
    "#mask dataframe\n",
    "mask = np.zeros_like(DF_rdm_modelFull, dtype=bool)\n",
    "mask[np.triu_indices_from(mask)] = True\n",
    "\n",
    "\n",
    "#ax = sns.heatmap(DF_rdm_hormone_visualize, mask=mask, yticklabels=False, xticklabels=False, cbar=False, vmin = 0, vmax = 10)\n",
    "ax = sns.heatmap(DF_rdm_modelFull, mask=mask, yticklabels=False, xticklabels=False, cbar=False, square=True)\n",
    "# use matplotlib.colorbar.Colorbar object\n",
    "#cbar = ax.collections[0].colorbar\n",
    "# here set the labelsize by 20\n",
    "#cbar.ax.tick_params(labelsize=20)\n",
    "#plt.show()\n",
    "#make background transparent\n",
    "#cbar.patch.set_alpha(0)\n",
    "ax.patch.set_alpha(0)\n",
    "\n",
    "print(DF_rdm_modelFull.shape)\n",
    "\n",
    "# save RDM figure, if needed\n",
    "#plt.savefig('C:/Users/UKPP/Documents/HormonesRestingStateRSA/ManuscriptRSA_EstrogenRDM_standEuclidean.jpg', bbox_inches='tight', dpi=300)\n",
    "\n",
    "#get info of min and max values as well as matrix size\n",
    "x = DF_rdm_modelFull.to_numpy()\n",
    "print(np.max(x[np.nonzero(x)]))\n",
    "print(np.min(x[np.nonzero(x)]))"
   ]
  },
  {
   "cell_type": "markdown",
   "id": "28e81457",
   "metadata": {},
   "source": [
    "## RSA - with permutation testing (10'000 permutations)\n",
    "\n",
    "**Permutation Testing**\n",
    "\n",
    "Using permutation testing to evaluate the significance of RSA analyses (Spearman correlations) via Family-Wise Error (FWE) correction\n",
    "\n",
    "(1) subject labels (i.e., rows and columns) are randomly reordered/permuted for one of the two similarity matrices (behavioral RDM) a large number of times (in this case, 10'000)\n",
    "\n",
    "(2) the correlation between the two matrices (permuted behavioral RDM and original brain/hormone RDM) is calculated - this is done 10'000 times - and this forms a null distribution of 10'000 surrogate correlation values\n",
    "\n",
    "(3) the true correlation values (between the original behavioral RDM and the original hormone RDM) is calculated and the observed correlation coefficient is then compared to this family-wise null distribution to obtain a new p-value (assessed at a 0.05 significance threshold, as the FWE correction is done by assessing the ture correlation against a family-wise null distribution"
   ]
  },
  {
   "cell_type": "code",
   "execution_count": null,
   "id": "94aff9f5",
   "metadata": {},
   "outputs": [],
   "source": [
    " ### define function to get null distribution of permutated behavior RDM\n",
    "def permutation_nulldistribution(rdm_hormone, rdm_behav, perm_num):    \n",
    "# Bootstrapping: looping over the number of permutations to rearrange the columns/rows [perm_num] times and using those 10'000 permutation labels to calculate the correlation values for each of the 140 conditions\n",
    "    family_wise_null_distr_behav = []\n",
    "    for i in range(perm_num):\n",
    "        \n",
    "        ## Creating the permuted behavioral RDM\n",
    "        # creating an array of weights ('factors') to reorder the rows and columns of the behavioral/hormonal RDM\n",
    "        perm_fact_behav = np.random.permutation(np.eye(len(rdm_behav),dtype=int))\n",
    "\n",
    "        # creating the reordered (permutated) behavioral matrix based on the original RDM and the above created factors\n",
    "        df_behav_corrected_perm = (perm_fact_behav @ rdm_behav) @ (np.linalg.inv(perm_fact_behav))\n",
    "\n",
    "        # making distance vector out of that permutated behavioral RDM that will be used to run the RSA - i.e. that will be correlated to the distance vector of the hormone RDM\n",
    "        behav_corrected_perm_vec = df_behav_corrected_perm.to_numpy()[np.triu_indices(len(df_behav_corrected_perm.to_numpy()[0]), 1)]\n",
    "\n",
    "        # RSA: compute the correlation between the reordered behavioral RDM (vector) and the non-reordered hormonal RDM (vector)\n",
    "        corr_behav = scipy.stats.spearmanr(behav_corrected_perm_vec, rdm_hormone) \n",
    "        family_wise_null_distr_behav.append(corr_behav[0])\n",
    "       \n",
    "    # retrieve the max R from this permutation and append to overall array of max values --> only if multiple conditions\n",
    "    #temp_max_value = np.max(temp_r_coef_for_one_perm_behav)\n",
    "    #family_wise_null_distr_behav.append(temp_max_value) \n",
    "\n",
    "    return family_wise_null_distr_behav\n",
    "\n",
    "  \n",
    "  ### define function to get null distribution of permutated behavior RDM  \n",
    "def calc_pvalue(null_distr, value):\n",
    "    \n",
    "    ''' \n",
    "    Function that calculates the p value of a given value on a self made null distribution, i.e. the probability that \n",
    "    that value is observed if the null hypothesis is true\n",
    "    \n",
    "    null_distr is a list\n",
    "    value needs to be a single value (so careful when computing correlation, need to feed in only the correlation coefficent and exclude p-value)\n",
    "    \n",
    "    '''\n",
    "    \n",
    "    # Compute the percentile rank of a score relative to a array of scores (here it's the scores making up the null distribution)\n",
    "    percentile = scipy.stats.percentileofscore(np.asarray(null_distr), value, kind = 'rank')\n",
    "    #print(percentile)\n",
    "    formatted_percentile = \"{:.16f}\".format(percentile)\n",
    "    #print(formatted_percentile)\n",
    "    \n",
    "    # The corresponding p-value\n",
    "    p_value = (100 - percentile)/100\n",
    "    #print(p_value)\n",
    "    formatted_p_value = \"{:.16f}\".format(p_value)\n",
    "    #print(formatted_p_value)\n",
    "    \n",
    "    return p_value"
   ]
  },
  {
   "cell_type": "code",
   "execution_count": null,
   "id": "3a0c8fc9",
   "metadata": {},
   "outputs": [],
   "source": [
    "### statistic\n",
    "rsa_behavAndHormones = scipy.stats.spearmanr(rdm_behav_vec, rdm_modelFull_vec)\n",
    "# permutation testing\n",
    "family_wise_null_distr = permutation_nulldistribution(rdm_behav_vec, DF_rdm_modelFull, perm_num = 10000)\n",
    "RSA_correlation_res = {} \n",
    "RSA_correlation_res['corr_coef'] = rsa_behavAndHormones[0]\n",
    "RSA_correlation_res['p-value'] = calc_pvalue(family_wise_null_distr, rsa_behavAndHormones[0])\n",
    "#print(df_modelFull.index.values)\n",
    "\n",
    "#plt.imshow(DF_rdm_modelFull.to_numpy())\n",
    "#plt.show()\n",
    "print(RSA_correlation_res)\n",
    "#\n",
    "##############################"
   ]
  },
  {
   "cell_type": "markdown",
   "id": "68f27ce1",
   "metadata": {},
   "source": [
    "## Save results in seperate text files "
   ]
  },
  {
   "cell_type": "code",
   "execution_count": null,
   "id": "d6d55bd5",
   "metadata": {},
   "outputs": [],
   "source": [
    "# Save to a text file\n",
    "with open(\"RSA_EstrogensPANASpos_seuclidean_FWEcorrected.txt\", \"w\") as file:\n",
    "    json.dump(RSA_correlation_res, file, indent=4)"
   ]
  },
  {
   "cell_type": "code",
   "execution_count": null,
   "id": "c38ea743",
   "metadata": {},
   "outputs": [],
   "source": [
    "# Save to a text file\n",
    "with open(\"RSA_ProgestogensPANASpos_seuclidean_FWEcorrected.txt\", \"w\") as file:\n",
    "    json.dump(RSA_correlation_res, file, indent=4)"
   ]
  },
  {
   "cell_type": "code",
   "execution_count": null,
   "id": "13d63a62",
   "metadata": {},
   "outputs": [],
   "source": [
    "# Save to a text file\n",
    "with open(\"RSA_EstrogensPANASneg_seuclidean_FWEcorrected.txt\", \"w\") as file:\n",
    "    json.dump(RSA_correlation_res, file, indent=4)"
   ]
  },
  {
   "cell_type": "code",
   "execution_count": null,
   "id": "1c991714",
   "metadata": {},
   "outputs": [],
   "source": [
    "# Save to a text file\n",
    "with open(\"RSA_ProgestogensPANASneg_seuclidean_FWEcorrected.txt\", \"w\") as file:\n",
    "    json.dump(RSA_correlation_res, file, indent=4)"
   ]
  },
  {
   "cell_type": "code",
   "execution_count": null,
   "id": "a59f4023",
   "metadata": {},
   "outputs": [],
   "source": [
    "# Save to a text file\n",
    "with open(\"RSA_EstrogensBDI_seuclidean_FWEcorrected.txt\", \"w\") as file:\n",
    "    json.dump(RSA_correlation_res, file, indent=4)"
   ]
  },
  {
   "cell_type": "code",
   "execution_count": null,
   "id": "577445f5",
   "metadata": {},
   "outputs": [],
   "source": [
    "# Save to a text file\n",
    "with open(\"RSA_ProgestogensBDI_seuclidean_FWEcorrected.txt\", \"w\") as file:\n",
    "    json.dump(RSA_correlation_res, file, indent=4)"
   ]
  },
  {
   "cell_type": "code",
   "execution_count": null,
   "id": "ee2239d3",
   "metadata": {},
   "outputs": [],
   "source": [
    "# Save to a text file\n",
    "with open(\"RSA_EstrogensEmoRecACC_seuclidean_FWEcorrected.txt\", \"w\") as file:\n",
    "    json.dump(RSA_correlation_res, file, indent=4)"
   ]
  },
  {
   "cell_type": "code",
   "execution_count": null,
   "id": "2b7ca713",
   "metadata": {},
   "outputs": [],
   "source": [
    "# Save to a text file\n",
    "with open(\"RSA_ProgestogensEmoRecACC_seuclidean_FWEcorrected.txt\", \"w\") as file:\n",
    "    json.dump(RSA_correlation_res, file, indent=4)"
   ]
  },
  {
   "cell_type": "code",
   "execution_count": null,
   "id": "237adcd2",
   "metadata": {},
   "outputs": [],
   "source": [
    "# Save to a text file\n",
    "with open(\"RSA_EstrogensEmoRecRT_seuclidean_FWEcorrected.txt\", \"w\") as file:\n",
    "    json.dump(RSA_correlation_res, file, indent=4)"
   ]
  },
  {
   "cell_type": "code",
   "execution_count": null,
   "id": "373d9a6c",
   "metadata": {},
   "outputs": [],
   "source": [
    "# Save to a text file\n",
    "with open(\"RSA_ProgestogensEmoRecRT_seuclidean_FWEcorrected.txt\", \"w\") as file:\n",
    "    json.dump(RSA_correlation_res, file, indent=4)"
   ]
  },
  {
   "cell_type": "markdown",
   "id": "99f02061",
   "metadata": {},
   "source": [
    "## Create histrogram of null distribution "
   ]
  },
  {
   "cell_type": "code",
   "execution_count": null,
   "id": "a514a1c5",
   "metadata": {},
   "outputs": [],
   "source": [
    "# histogram of the null distribution of the surrogate Spearman correlation values\n",
    "plt.hist(family_wise_null_distr, bins=50, alpha = 0.25)\n",
    "plt.title('Family-wise null distribution of surrogate Spearman correlation values')\n",
    "plt.grid()\n",
    "plt.show()\n",
    "print(\"Mean:  \", round(np.mean(family_wise_null_distr_behav),3))\n",
    "print(\"Median:\", round(np.median(family_wise_null_distr_behav),3))\n",
    "print(\"Minimum:\", round(np.min(family_wise_null_distr_behav),3))\n",
    "print(\"Maximum:\", round(np.max(family_wise_null_distr_behav),3))\n"
   ]
  }
 ],
 "metadata": {
  "kernelspec": {
   "display_name": "Python 3",
   "language": "python",
   "name": "python3"
  },
  "language_info": {
   "codemirror_mode": {
    "name": "ipython",
    "version": 3
   },
   "file_extension": ".py",
   "mimetype": "text/x-python",
   "name": "python",
   "nbconvert_exporter": "python",
   "pygments_lexer": "ipython3",
   "version": "3.8.8"
  }
 },
 "nbformat": 4,
 "nbformat_minor": 5
}
